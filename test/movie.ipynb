{
 "cells": [
  {
   "cell_type": "code",
   "execution_count": 1,
   "metadata": {},
   "outputs": [],
   "source": [
    "import pandas as ps\n",
    "import json"
   ]
  },
  {
   "cell_type": "code",
   "execution_count": 2,
   "metadata": {},
   "outputs": [],
   "source": [
    "file_user = \"./data/movielens/ml-1m/users.dat\"\n",
    "file_csv_user = \"../data/movielens/ml-1m/users.csv\"\n",
    "file_user = \"./data/movielens/ml-1m/movies.dat\"\n",
    "file_csv_user = \"../data/movielens/ml-1m/movies.csv\"\n",
    "file_user = \"./data/movielens/ml-1m/ratings.dat\"\n",
    "file_csv_user = \"../data/movielens/ml-1m/ratings.csv\"\n",
    "def process_user_data():\n",
    "    print(\"开始转换用户数据(users.dat)\")\n",
    "    fp = pd.read_table(file_user, sep = \"::\", engine = \"python\", names =[\"userID\", \"Gender\", 'Age', 'Occupation', 'Zip-code'])\n",
    "    fp.to_csv(file_csv_user)"
   ]
  }
 ],
 "metadata": {
  "kernelspec": {
   "display_name": "Python 3",
   "language": "python",
   "name": "python3"
  },
  "language_info": {
   "codemirror_mode": {
    "name": "ipython",
    "version": 3
   },
   "file_extension": ".py",
   "mimetype": "text/x-python",
   "name": "python",
   "nbconvert_exporter": "python",
   "pygments_lexer": "ipython3",
   "version": "3.6.3"
  }
 },
 "nbformat": 4,
 "nbformat_minor": 2
}
